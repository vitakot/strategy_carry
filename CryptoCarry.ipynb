{
  "nbformat": 4,
  "nbformat_minor": 0,
  "metadata": {
    "colab": {
      "provenance": [],
      "mount_file_id": "14df3zPytKNNeiImBceT_JBsrb_M5As_7",
      "authorship_tag": "ABX9TyOh+C84tch5p8zYHQxMn/MF",
      "include_colab_link": true
    },
    "kernelspec": {
      "name": "python3",
      "display_name": "Python 3"
    },
    "language_info": {
      "name": "python"
    }
  },
  "cells": [
    {
      "cell_type": "markdown",
      "metadata": {
        "id": "view-in-github",
        "colab_type": "text"
      },
      "source": [
        "<a href=\"https://colab.research.google.com/github/vitakot/strategy_carry/blob/main/CryptoCarry.ipynb\" target=\"_parent\"><img src=\"https://colab.research.google.com/assets/colab-badge.svg\" alt=\"Open In Colab\"/></a>"
      ]
    },
    {
      "cell_type": "code",
      "source": [
        "! pip install -U datar[pandas]"
      ],
      "metadata": {
        "id": "_OW-eiSa3eVx"
      },
      "execution_count": null,
      "outputs": []
    },
    {
      "cell_type": "code",
      "execution_count": null,
      "metadata": {
        "id": "88mrUnnJyReQ"
      },
      "outputs": [],
      "source": [
        "import pandas as pd\n",
        "from datar.apis.base import head, tail, log\n",
        "from datar.dplyr import inner_join, group_by, arrange, mutate, lead, lag\n",
        "from datar.base import c\n",
        "from datar import f"
      ]
    },
    {
      "cell_type": "code",
      "source": [
        "def load_and_prepare_funding_data():\n",
        "    futures = pd.read_feather('/content/drive/MyDrive/---Shared---/Data/RWResearch/ftx_futures_ohlc_btc_xrp_1h.feather')\n",
        "    perp_rate = pd.read_feather('/content/drive/MyDrive/---Shared---/Data/RWResearch/ftx_perpetual_funding_rates_btc_xrp.feather')\n",
        "\n",
        "    futures['date'] = pd.to_datetime(futures['date'], format='%Y-%m-%dT%H:%M:%S', utc=True)\n",
        "    perp_rate['date'] = pd.to_datetime(perp_rate['date'], format='%Y-%m-%d %H:%M:%S', utc=True)\n",
        "\n",
        "    joined = inner_join(futures, perp_rate, by=c('ticker', 'date'))\n",
        "    grouped = group_by(joined, f.ticker)\n",
        "    arranged = arrange(grouped, f.date)\n",
        "    mutated = mutate(arranged, price_change=log(f.close / lag(f.close)), funding_accrual=-lead(f.rate))\n",
        "    return mutated"
      ],
      "metadata": {
        "id": "-WNXzM3f1tg3"
      },
      "execution_count": null,
      "outputs": []
    },
    {
      "cell_type": "code",
      "source": [
        "    funding_data = load_and_prepare_funding_data()\n",
        "    print(head(funding_data).to_string())\n"
      ],
      "metadata": {
        "colab": {
          "base_uri": "https://localhost:8080/"
        },
        "id": "9QQ4Y8oH17-F",
        "outputId": "466edd5f-8079-4989-9fe9-b1018e34acef"
      },
      "execution_count": null,
      "outputs": [
        {
          "output_type": "stream",
          "name": "stdout",
          "text": [
            "     ticker                      date          open          high           low         close        volume      rate  price_change  funding_accrual\n",
            "   <object>     <datetime64[ns, UTC]>     <float64>     <float64>     <float64>     <float64>     <float64> <float64>     <float64>        <float64>\n",
            "0  BTC-PERP 2019-07-20 12:00:00+00:00  10564.250000  10630.000000  10525.500000  10539.500000  1.052997e+07  0.000011           NaN         0.000003\n",
            "1  XRP-PERP 2019-07-20 12:00:00+00:00      0.327975      0.328400      0.327000      0.327975  0.000000e+00  0.000029      0.000877        -0.000028\n",
            "2  XRP-PERP 2019-07-20 13:00:00+00:00      0.327975      0.331675      0.327025      0.328575  0.000000e+00  0.000028      0.006849        -0.000021\n",
            "3  BTC-PERP 2019-07-20 13:00:00+00:00  10539.500000  10796.250000  10477.000000  10548.750000  2.361670e+07 -0.000003      0.002468        -0.000003\n",
            "4  XRP-PERP 2019-07-20 14:00:00+00:00      0.328575      0.330100      0.327900      0.329375  0.000000e+00  0.000021      0.016164        -0.000007\n",
            "5  BTC-PERP 2019-07-20 14:00:00+00:00  10548.750000  10628.250000  10548.750000  10621.250000  1.651935e+07  0.000003      0.008512        -0.000002\n",
            "[TibbleGrouped: ticker (n=2)]\n"
          ]
        }
      ]
    }
  ]
}